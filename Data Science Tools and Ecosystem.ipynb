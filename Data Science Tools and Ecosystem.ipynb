{
 "cells": [
  {
   "cell_type": "markdown",
   "id": "07e2de4a-0cbf-4774-858c-8cf1b81b005e",
   "metadata": {},
   "source": [
    "### Exercise 2: Create markdown cell with title of the notebook\n",
    "# Data Science Tools and Ecosystem"
   ]
  },
  {
   "cell_type": "markdown",
   "id": "7e9416c4-de4c-48cc-aeea-a402e2768e56",
   "metadata": {},
   "source": [
    "### Exercise 3 - Create a markdown cell for an introduction\n",
    "\n"
   ]
  },
  {
   "cell_type": "markdown",
   "id": "ac71d172-ef7f-4d09-99d5-3d018c1a1bcd",
   "metadata": {},
   "source": [
    "In this notebook, Data Science Tools and Ecosystem are summarized.\n",
    "\n"
   ]
  },
  {
   "cell_type": "markdown",
   "id": "8104ca94-a50b-43d4-9982-e990dd661e40",
   "metadata": {},
   "source": [
    "### Exercise 4 - Create a markdown cell to list data science languages"
   ]
  },
  {
   "cell_type": "markdown",
   "id": "dcd1739c-5578-4d4d-930c-cb3b07f817fd",
   "metadata": {},
   "source": [
    "Some of the popular languages that Data Scientists use are:\r\n",
    "\r\n",
    "1. Python  \r\n",
    "2. R  \r\n",
    "3. SQL  \r\n",
    "4. Julia  \r\n",
    "5. Scala\r\n"
   ]
  },
  {
   "cell_type": "markdown",
   "id": "0cbff588-cd05-4f35-9857-6bb4f677c362",
   "metadata": {},
   "source": [
    "### Exercise 5 - Create a markdown cell to list data science libraries\r\n",
    "\r\n"
   ]
  },
  {
   "cell_type": "markdown",
   "id": "b34cf6b6-3481-4f2e-a253-295c9b88dc22",
   "metadata": {},
   "source": [
    "Some of the popular languages that Data Scientists use are:\n",
    "\n",
    "1. Python  \n",
    "2. R  \n",
    "3. SQL  \n",
    "4. Julia  \n",
    "5. Scala\n"
   ]
  },
  {
   "cell_type": "markdown",
   "id": "1a20957d-0d0b-4650-a9cf-a655a356f23c",
   "metadata": {},
   "source": [
    "### Exercise 6 - Create a markdown cell with a table of Data Science tools"
   ]
  },
  {
   "cell_type": "markdown",
   "id": "62a621fc-1c0f-425f-869d-10c30f677167",
   "metadata": {},
   "source": [
    "| Data Science Tools        |\n",
    "|----------------------------|\n",
    "| Jupyter Notebook           |\n",
    "| RStudio                    |\n",
    "| Apache Zeppelin            |\n"
   ]
  },
  {
   "cell_type": "markdown",
   "id": "1068ce32-f831-4bf4-9972-419d51b2b4a8",
   "metadata": {},
   "source": [
    "#### Exercise 7 - Create a markdown cell introducing arithmetic expression examples\n",
    "\n"
   ]
  },
  {
   "cell_type": "markdown",
   "id": "7c562f52-34aa-48c9-ab9b-dba4622d2981",
   "metadata": {},
   "source": [
    "### Below are a few examples of evaluating arithmetic expressions in Python.\n",
    "\n"
   ]
  },
  {
   "cell_type": "markdown",
   "id": "bfb96d2d-5323-4ee1-9225-a8073495e0d3",
   "metadata": {},
   "source": [
    "### Exercise 8 - Create a code cell to multiply and add numbers\n",
    "\n"
   ]
  },
  {
   "cell_type": "code",
   "execution_count": 18,
   "id": "5a390ec4-b970-482d-a9fa-e41ce56ea023",
   "metadata": {},
   "outputs": [
    {
     "data": {
      "text/plain": [
       "17"
      ]
     },
     "execution_count": 18,
     "metadata": {},
     "output_type": "execute_result"
    }
   ],
   "source": [
    "# This is a simple arithmetic expression to multiply then add integers\n",
    "(3 * 4) + 5\n"
   ]
  },
  {
   "cell_type": "markdown",
   "id": "981d37f2-1e52-4cb7-8159-e0207087ea32",
   "metadata": {},
   "source": [
    "### Exercise 9 - Create a code cell to convert minutes to hours\n",
    "\n"
   ]
  },
  {
   "cell_type": "code",
   "execution_count": 19,
   "id": "92098988-a0f9-47cc-89a7-4afda4dfbd76",
   "metadata": {},
   "outputs": [
    {
     "data": {
      "text/plain": [
       "3.3333333333333335"
      ]
     },
     "execution_count": 19,
     "metadata": {},
     "output_type": "execute_result"
    }
   ],
   "source": [
    "# This will convert 200 minutes to hours by diving by 60\n",
    "200 / 60"
   ]
  },
  {
   "cell_type": "markdown",
   "id": "1a4ca1ef-44c8-4287-94a7-d4af53f21fef",
   "metadata": {},
   "source": [
    "### Exercise 10 - Insert a markdown cell to list Objectives\n",
    "\n"
   ]
  },
  {
   "cell_type": "markdown",
   "id": "3cfccdff-5823-4c79-80d9-ce393aa86232",
   "metadata": {},
   "source": [
    "Objectives:\n",
    "\n",
    "- List popular languages for Data Science\n",
    "- Identify common libraries and tools used in Data Science\n",
    "- Describe key steps in the Data Science methodology\n",
    "- Explain the importance of data analysis and visualization\n",
    "- Summarize essential skills required for a Data Scientist"
   ]
  },
  {
   "cell_type": "markdown",
   "id": "1646bd68-a9cd-48a2-b84c-a473dff6a162",
   "metadata": {},
   "source": [
    "### Exercise 11 - Create a markdown cell to indicate the Author's name\r\n",
    "\r\n"
   ]
  },
  {
   "cell_type": "markdown",
   "id": "bec329a2-2e4c-42c8-9d82-c9731f7009b7",
   "metadata": {},
   "source": [
    "**Objectives:**\n",
    "\n",
    "- List popular languages for Data Science  \n",
    "- Identify common libraries and tools used in Data Science  \n",
    "- Describe key steps in the Data Science methodology  \n",
    "- Explain the importance of data analysis and visualization  \n",
    "- Summarize essential skills required for a Data Scientist  \n",
    "\n",
    "## Author\n",
    "Your Name\n"
   ]
  },
  {
   "cell_type": "code",
   "execution_count": null,
   "id": "2bb902be-a645-4d90-a5ff-953c5b956378",
   "metadata": {},
   "outputs": [],
   "source": []
  }
 ],
 "metadata": {
  "kernelspec": {
   "display_name": "Python 3 (ipykernel)",
   "language": "python",
   "name": "python3"
  },
  "language_info": {
   "codemirror_mode": {
    "name": "ipython",
    "version": 3
   },
   "file_extension": ".py",
   "mimetype": "text/x-python",
   "name": "python",
   "nbconvert_exporter": "python",
   "pygments_lexer": "ipython3",
   "version": "3.11.7"
  }
 },
 "nbformat": 4,
 "nbformat_minor": 5
}
